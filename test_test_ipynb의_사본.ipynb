{
  "nbformat": 4,
  "nbformat_minor": 0,
  "metadata": {
    "colab": {
      "provenance": [],
      "mount_file_id": "1GG0fjw_WtrsDFHilCMVwFX1rV3qV8uUn",
      "authorship_tag": "ABX9TyPUrfCKCnBOg2T4of99qIr8",
      "include_colab_link": true
    },
    "kernelspec": {
      "name": "python3",
      "display_name": "Python 3"
    },
    "language_info": {
      "name": "python"
    }
  },
  "cells": [
    {
      "cell_type": "markdown",
      "metadata": {
        "id": "view-in-github",
        "colab_type": "text"
      },
      "source": [
        "<a href=\"https://colab.research.google.com/github/OST-kr/MyApplication6_1/blob/main/test_test_ipynb%EC%9D%98_%EC%82%AC%EB%B3%B8.ipynb\" target=\"_parent\"><img src=\"https://colab.research.google.com/assets/colab-badge.svg\" alt=\"Open In Colab\"/></a>"
      ]
    },
    {
      "cell_type": "code",
      "execution_count": null,
      "metadata": {
        "id": "mBC9gRdHuSya",
        "colab": {
          "base_uri": "https://localhost:8080/"
        },
        "outputId": "b6bf2196-1b57-4a91-abea-8ed6f1e12909"
      },
      "outputs": [
        {
          "output_type": "stream",
          "name": "stdout",
          "text": [
            "은닉 계층 0개를 갖는 다층 퍼셉트론이 작동되었습니다.\n",
            "Epoch 1: loss=33.707, accuracy=0.554/0.816\n",
            "Epoch 2: loss=8.238, accuracy=0.818/0.818\n",
            "Epoch 3: loss=7.597, accuracy=0.810/0.815\n",
            "Epoch 4: loss=7.487, accuracy=0.809/0.812\n",
            "Epoch 5: loss=7.405, accuracy=0.808/0.813\n",
            "Epoch 6: loss=7.335, accuracy=0.808/0.813\n",
            "Epoch 7: loss=7.272, accuracy=0.809/0.811\n",
            "Epoch 8: loss=7.222, accuracy=0.807/0.813\n",
            "Epoch 9: loss=7.175, accuracy=0.808/0.814\n",
            "Epoch 10: loss=7.133, accuracy=0.809/0.813\n",
            "\n",
            "Final Test: final accuracy = 0.813\n"
          ]
        }
      ],
      "source": [
        "%run /content/drive/MyDrive/Colab_Notebooks/abalone.ipynb\n",
        "%run /content/drive/MyDrive/Colab_Notebooks/mlp.ipynb\n",
        "set_hidden([])\n",
        "abalone_exec()"
      ]
    },
    {
      "cell_type": "code",
      "source": [
        "set_hidden(4)\n",
        "abalone_exec(epoch_count=50, report=10)"
      ],
      "metadata": {
        "colab": {
          "base_uri": "https://localhost:8080/"
        },
        "id": "pPoaEExUSAL1",
        "outputId": "9961a637-9465-4031-9c2e-afebfc927cc0"
      },
      "execution_count": null,
      "outputs": [
        {
          "output_type": "stream",
          "name": "stdout",
          "text": [
            "은닉 계층 하나를 갖는 다층 퍼셉트론이 작동되었습니다.\n",
            "Epoch 10: loss=6.671, accuracy=0.809/0.795\n",
            "Epoch 20: loss=6.119, accuracy=0.818/0.810\n",
            "Epoch 30: loss=5.443, accuracy=0.829/0.818\n",
            "Epoch 40: loss=5.015, accuracy=0.837/0.832\n",
            "Epoch 50: loss=4.889, accuracy=0.840/0.832\n",
            "\n",
            "Final Test: final accuracy = 0.832\n"
          ]
        }
      ]
    },
    {
      "cell_type": "code",
      "source": [
        "abalone_exec(epoch_count=50, report=10)"
      ],
      "metadata": {
        "colab": {
          "base_uri": "https://localhost:8080/"
        },
        "id": "cqZguqt1SC8Z",
        "outputId": "1eaff4c2-9931-4af4-edbe-4e301bc8f49b"
      },
      "execution_count": null,
      "outputs": [
        {
          "output_type": "stream",
          "name": "stdout",
          "text": [
            "은닉 계층 하나를 갖는 다층 퍼셉트론이 작동되었습니다.\n",
            "Epoch 10: loss=6.671, accuracy=0.807/0.812\n",
            "Epoch 20: loss=6.142, accuracy=0.816/0.818\n",
            "Epoch 30: loss=5.473, accuracy=0.828/0.816\n",
            "Epoch 40: loss=5.020, accuracy=0.837/0.820\n",
            "Epoch 50: loss=4.863, accuracy=0.839/0.840\n",
            "\n",
            "Final Test: final accuracy = 0.840\n"
          ]
        }
      ]
    },
    {
      "cell_type": "code",
      "source": [
        "%run /content/drive/MyDrive/Colab_Notebooks/pulsar.ipynb\n",
        "%run /content/drive/MyDrive/Colab_Notebooks/mlp.ipynb\n",
        "set_hidden(6)\n",
        "pulsar_exec(epoch_count=50, report=10)"
      ],
      "metadata": {
        "id": "yTjHTIAnSBjz",
        "colab": {
          "base_uri": "https://localhost:8080/"
        },
        "outputId": "4bce9327-2fbf-463f-f013-ff25784ba7f1"
      },
      "execution_count": null,
      "outputs": [
        {
          "output_type": "stream",
          "name": "stdout",
          "text": [
            "은닉 계층 하나를 갖는 다층 퍼셉트론이 작동되었습니다.\n",
            "Epoch 10: loss=0.094, accuracy=0.972/0.972\n",
            "Epoch 20: loss=0.091, accuracy=0.973/0.974\n",
            "Epoch 30: loss=0.091, accuracy=0.973/0.974\n",
            "Epoch 40: loss=0.089, accuracy=0.974/0.974\n",
            "Epoch 50: loss=0.089, accuracy=0.974/0.975\n",
            "\n",
            "Final Test: final accuracy = 0.975\n"
          ]
        }
      ]
    },
    {
      "cell_type": "code",
      "source": [
        "set_hidden([6])\n",
        "pulsar_exec(epoch_count=50, report=10)"
      ],
      "metadata": {
        "id": "s3zE8m6GSCBK",
        "colab": {
          "base_uri": "https://localhost:8080/"
        },
        "outputId": "b2b3129c-60f9-4b47-f746-4fd118881445"
      },
      "execution_count": null,
      "outputs": [
        {
          "output_type": "stream",
          "name": "stdout",
          "text": [
            "은닉 계층 1개를 갖는 다층 퍼셉트론이 작동되었습니다.\n",
            "Epoch 10: loss=0.090, accuracy=0.973/0.969\n",
            "Epoch 20: loss=0.087, accuracy=0.974/0.969\n",
            "Epoch 30: loss=0.085, accuracy=0.975/0.973\n",
            "Epoch 40: loss=0.083, accuracy=0.976/0.972\n",
            "Epoch 50: loss=0.083, accuracy=0.976/0.972\n",
            "\n",
            "Final Test: final accuracy = 0.972\n"
          ]
        }
      ]
    },
    {
      "cell_type": "code",
      "source": [
        "set_hidden([12,6])\n",
        "pulsar_exec(epoch_count=200, report=40)"
      ],
      "metadata": {
        "id": "fgKQpMVbSCDa",
        "colab": {
          "base_uri": "https://localhost:8080/"
        },
        "outputId": "d5315208-7965-4304-e9b4-8f65e2333464"
      },
      "execution_count": null,
      "outputs": [
        {
          "output_type": "stream",
          "name": "stdout",
          "text": [
            "은닉 계층 2개를 갖는 다층 퍼셉트론이 작동되었습니다.\n",
            "Epoch 40: loss=0.090, accuracy=0.973/0.972\n",
            "Epoch 80: loss=0.086, accuracy=0.975/0.974\n",
            "Epoch 120: loss=0.084, accuracy=0.976/0.971\n",
            "Epoch 160: loss=0.081, accuracy=0.976/0.972\n",
            "Epoch 200: loss=0.081, accuracy=0.976/0.973\n",
            "\n",
            "Final Test: final accuracy = 0.973\n"
          ]
        }
      ]
    },
    {
      "cell_type": "code",
      "source": [
        "%run /content/drive/MyDrive/Colab_Notebooks/steel.ipynb\n",
        "%run /content/drive/MyDrive/Colab_Notebooks/mlp.ipynb\n",
        "set_hidden(10)\n",
        "steel_exec(epoch_count=50, report=10)"
      ],
      "metadata": {
        "id": "1ZWUfipdSCF7",
        "colab": {
          "base_uri": "https://localhost:8080/"
        },
        "outputId": "6c799cab-15b8-4058-a6d6-bb327c5b7deb"
      },
      "execution_count": null,
      "outputs": [
        {
          "output_type": "stream",
          "name": "stdout",
          "text": [
            "은닉 계층 하나를 갖는 다층 퍼셉트론이 작동되었습니다.\n",
            "Epoch 10: loss=1.849, accuracy=0.352/0.325\n",
            "Epoch 20: loss=1.786, accuracy=0.352/0.325\n",
            "Epoch 30: loss=1.747, accuracy=0.352/0.325\n",
            "Epoch 40: loss=1.723, accuracy=0.352/0.325\n",
            "Epoch 50: loss=1.708, accuracy=0.352/0.325\n",
            "\n",
            "Final Test: final accuracy = 0.325\n"
          ]
        }
      ]
    },
    {
      "cell_type": "code",
      "source": [
        "set_hidden([12, 6, 4])\n",
        "steel_exec(epoch_count=50, report=10)"
      ],
      "metadata": {
        "id": "-9s4E6yGSCIz",
        "colab": {
          "base_uri": "https://localhost:8080/"
        },
        "outputId": "9c6cac2a-5385-4066-ba4e-552c0124222b"
      },
      "execution_count": null,
      "outputs": [
        {
          "output_type": "stream",
          "name": "stdout",
          "text": [
            "은닉 계층 3개를 갖는 다층 퍼셉트론이 작동되었습니다.\n",
            "Epoch 10: loss=1.855, accuracy=0.346/0.350\n",
            "Epoch 20: loss=1.795, accuracy=0.346/0.350\n",
            "Epoch 30: loss=1.758, accuracy=0.346/0.350\n",
            "Epoch 40: loss=1.735, accuracy=0.346/0.350\n",
            "Epoch 50: loss=1.721, accuracy=0.346/0.350\n",
            "\n",
            "Final Test: final accuracy = 0.350\n"
          ]
        }
      ]
    },
    {
      "cell_type": "code",
      "source": [
        "LEARNING_RATE=0.0001\n",
        "hidden_config = [12, 6, 4]\n",
        "steel_exec(epoch_count=50, report=10)"
      ],
      "metadata": {
        "id": "ouCoKRS0SCLE",
        "colab": {
          "base_uri": "https://localhost:8080/"
        },
        "outputId": "825f84fd-dea9-4da0-9711-be005301ff24"
      },
      "execution_count": null,
      "outputs": [
        {
          "output_type": "stream",
          "name": "stdout",
          "text": [
            "은닉 계층 3개를 갖는 다층 퍼셉트론이 작동되었습니다.\n",
            "Epoch 10: loss=1.738, accuracy=0.257/0.182\n",
            "Epoch 20: loss=1.618, accuracy=0.315/0.468\n",
            "Epoch 30: loss=1.604, accuracy=0.390/0.389\n",
            "Epoch 40: loss=1.594, accuracy=0.422/0.471\n",
            "Epoch 50: loss=1.584, accuracy=0.444/0.471\n",
            "\n",
            "Final Test: final accuracy = 0.471\n"
          ]
        }
      ]
    }
  ]
}